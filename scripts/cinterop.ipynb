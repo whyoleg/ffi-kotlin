{
 "cells": [
  {
   "cell_type": "code",
   "execution_count": 24,
   "metadata": {
    "collapsed": true,
    "ExecuteTime": {
     "end_time": "2023-09-14T19:56:59.655895Z",
     "start_time": "2023-09-14T19:56:59.395781Z"
    }
   },
   "outputs": [],
   "source": [
    "val knCompilerPath = \"/Users/whyoleg/.konan/kotlin-native-prebuilt-macos-aarch64-1.9.0\"\n",
    "val targets = listOf(\n",
    "    \"macos_arm64\",\n",
    "    \"macos_x64\",\n",
    "    \"linux_x64\",\n",
    "    \"mingw_x64\",\n",
    "    \"ios_x64\",\n",
    "    \"ios_arm64\",\n",
    "    \"ios_simulator_arm64\"\n",
    ")\n",
    "val defFileName = \"builtIn\""
   ]
  },
  {
   "cell_type": "code",
   "execution_count": 25,
   "outputs": [],
   "source": [
    "fun runCommand(target: String) {\n",
    "    val tempFile = Files.createTempFile(\"cinterop-\", \".klib\")\n",
    "    println(target)\n",
    "    val processBuilder = ProcessBuilder(\n",
    "        \"$knCompilerPath/bin/cinterop\",\n",
    "        \"-def\", \"$knCompilerPath/konan/platformDef/$target/$defFileName.def\",\n",
    "        \"-o\", tempFile.absolutePathString(),\n",
    "        \"-target\", target,\n",
    "        \"-verbose\",\n",
    "    )\n",
    "    println(\"CLI COMMAND: ${processBuilder.command().joinToString(\" \")}\")\n",
    "    println(\"-----\")\n",
    "    val process = processBuilder.start()\n",
    "    check(process.waitFor() == 0) { process.errorStream.readAllBytes().decodeToString() }\n",
    "    val processOutput = process.inputStream.readAllBytes().decodeToString()\n",
    "    println(\"CINTEROP $processOutput\")\n",
    "    println()\n",
    "}"
   ],
   "metadata": {
    "collapsed": false,
    "ExecuteTime": {
     "end_time": "2023-09-14T19:57:01.546097Z",
     "start_time": "2023-09-14T19:57:00.697631Z"
    }
   }
  },
  {
   "cell_type": "code",
   "execution_count": 26,
   "outputs": [
    {
     "name": "stdout",
     "output_type": "stream",
     "text": [
      "macos_arm64\n",
      "CLI COMMAND: /Users/whyoleg/.konan/kotlin-native-prebuilt-macos-aarch64-1.9.0/bin/cinterop -def /Users/whyoleg/.konan/kotlin-native-prebuilt-macos-aarch64-1.9.0/konan/platformDef/macos_arm64/builtIn.def -o /var/folders/8h/663rnpwx6yz077tq5qtxbk8h0000gn/T/cinterop-15415094612861694497.klib -target macos_arm64 -verbose\n",
      "-----\n",
      "CINTEROP COMMAND: /Users/whyoleg/.konan/dependencies/apple-llvm-20200714-macos-aarch64-essentials/bin/clang -O2 -fexceptions -isystem /Users/whyoleg/.konan/dependencies/apple-llvm-20200714-macos-aarch64-essentials/lib/clang/11.1.0/include -B/Applications/Xcode.app/Contents/Developer/Toolchains/XcodeDefault.xctoolchain/usr/bin -fno-stack-protector -target arm64-apple-macos10.16 -isysroot /Applications/Xcode.app/Contents/Developer/Platforms/MacOSX.platform/Developer/SDKs/MacOSX13.3.sdk -fPIC -Wno-builtin-macro-redefined -include-pch /var/folders/8h/663rnpwx6yz077tq5qtxbk8h0000gn/T/11498145120484741557.pch -include-pch /var/folders/8h/663rnpwx6yz077tq5qtxbk8h0000gn/T/2069233801281337366.pch -emit-llvm -x c -c - -o /var/folders/8h/663rnpwx6yz077tq5qtxbk8h0000gn/T/cinterop-15415094612861694497.klib-build/natives/cstubs.bc -Xclang -detailed-preprocessing-record < /var/folders/8h/663rnpwx6yz077tq5qtxbk8h0000gn/T/konan_temp14257820535500949669/cstubs.c\n",
      "\n",
      "\n",
      "macos_x64\n",
      "CLI COMMAND: /Users/whyoleg/.konan/kotlin-native-prebuilt-macos-aarch64-1.9.0/bin/cinterop -def /Users/whyoleg/.konan/kotlin-native-prebuilt-macos-aarch64-1.9.0/konan/platformDef/macos_x64/builtIn.def -o /var/folders/8h/663rnpwx6yz077tq5qtxbk8h0000gn/T/cinterop-10322198016631273535.klib -target macos_x64 -verbose\n",
      "-----\n",
      "CINTEROP COMMAND: /Users/whyoleg/.konan/dependencies/apple-llvm-20200714-macos-aarch64-essentials/bin/clang -O2 -fexceptions -isystem /Users/whyoleg/.konan/dependencies/apple-llvm-20200714-macos-aarch64-essentials/lib/clang/11.1.0/include -B/Applications/Xcode.app/Contents/Developer/Toolchains/XcodeDefault.xctoolchain/usr/bin -fno-stack-protector -target x86_64-apple-macos10.13 -isysroot /Applications/Xcode.app/Contents/Developer/Platforms/MacOSX.platform/Developer/SDKs/MacOSX13.3.sdk -fPIC -Wno-builtin-macro-redefined -include-pch /var/folders/8h/663rnpwx6yz077tq5qtxbk8h0000gn/T/7610745396892806944.pch -include-pch /var/folders/8h/663rnpwx6yz077tq5qtxbk8h0000gn/T/9951286354801511433.pch -emit-llvm -x c -c - -o /var/folders/8h/663rnpwx6yz077tq5qtxbk8h0000gn/T/cinterop-10322198016631273535.klib-build/natives/cstubs.bc -Xclang -detailed-preprocessing-record < /var/folders/8h/663rnpwx6yz077tq5qtxbk8h0000gn/T/konan_temp13235732881344574241/cstubs.c\n",
      "\n",
      "\n",
      "linux_x64\n",
      "CLI COMMAND: /Users/whyoleg/.konan/kotlin-native-prebuilt-macos-aarch64-1.9.0/bin/cinterop -def /Users/whyoleg/.konan/kotlin-native-prebuilt-macos-aarch64-1.9.0/konan/platformDef/linux_x64/builtIn.def -o /var/folders/8h/663rnpwx6yz077tq5qtxbk8h0000gn/T/cinterop-12761177036284686836.klib -target linux_x64 -verbose\n",
      "-----\n",
      "CINTEROP COMMAND: /Users/whyoleg/.konan/dependencies/apple-llvm-20200714-macos-aarch64-essentials/bin/clang -O2 -fexceptions -isystem /Users/whyoleg/.konan/dependencies/apple-llvm-20200714-macos-aarch64-essentials/lib/clang/11.1.0/include -B/Users/whyoleg/.konan/dependencies/apple-llvm-20200714-macos-aarch64-essentials/usr/bin -fno-stack-protector --gcc-toolchain=/Users/whyoleg/.konan/dependencies/x86_64-unknown-linux-gnu-gcc-8.3.0-glibc-2.19-kernel-4.9-2 -target x86_64-unknown-linux-gnu --sysroot=/Users/whyoleg/.konan/dependencies/x86_64-unknown-linux-gnu-gcc-8.3.0-glibc-2.19-kernel-4.9-2/x86_64-unknown-linux-gnu/sysroot -fPIC -Wno-builtin-macro-redefined -include-pch /var/folders/8h/663rnpwx6yz077tq5qtxbk8h0000gn/T/1797468543846140519.pch -include-pch /var/folders/8h/663rnpwx6yz077tq5qtxbk8h0000gn/T/6288925261322622127.pch -emit-llvm -x c -c - -o /var/folders/8h/663rnpwx6yz077tq5qtxbk8h0000gn/T/cinterop-12761177036284686836.klib-build/natives/cstubs.bc -Xclang -detailed-preprocessing-record < /var/folders/8h/663rnpwx6yz077tq5qtxbk8h0000gn/T/konan_temp4026220027479360342/cstubs.c\n",
      "\n",
      "\n",
      "mingw_x64\n",
      "CLI COMMAND: /Users/whyoleg/.konan/kotlin-native-prebuilt-macos-aarch64-1.9.0/bin/cinterop -def /Users/whyoleg/.konan/kotlin-native-prebuilt-macos-aarch64-1.9.0/konan/platformDef/mingw_x64/builtIn.def -o /var/folders/8h/663rnpwx6yz077tq5qtxbk8h0000gn/T/cinterop-630851500293239921.klib -target mingw_x64 -verbose\n",
      "-----\n",
      "CINTEROP COMMAND: /Users/whyoleg/.konan/dependencies/apple-llvm-20200714-macos-aarch64-essentials/bin/clang -O2 -fexceptions -isystem /Users/whyoleg/.konan/dependencies/apple-llvm-20200714-macos-aarch64-essentials/lib/clang/11.1.0/include -B/Users/whyoleg/.konan/dependencies/apple-llvm-20200714-macos-aarch64-essentials/usr/bin -fno-stack-protector -target x86_64-pc-windows-gnu --sysroot=/Users/whyoleg/.konan/dependencies/msys2-mingw-w64-x86_64-2 -Wno-builtin-macro-redefined -include-pch /var/folders/8h/663rnpwx6yz077tq5qtxbk8h0000gn/T/7899642565203372791.pch -include-pch /var/folders/8h/663rnpwx6yz077tq5qtxbk8h0000gn/T/15346899537145052552.pch -emit-llvm -x c -c - -o /var/folders/8h/663rnpwx6yz077tq5qtxbk8h0000gn/T/cinterop-630851500293239921.klib-build/natives/cstubs.bc -Xclang -detailed-preprocessing-record < /var/folders/8h/663rnpwx6yz077tq5qtxbk8h0000gn/T/konan_temp7119542569336294431/cstubs.c\n",
      "\n",
      "\n",
      "ios_x64\n",
      "CLI COMMAND: /Users/whyoleg/.konan/kotlin-native-prebuilt-macos-aarch64-1.9.0/bin/cinterop -def /Users/whyoleg/.konan/kotlin-native-prebuilt-macos-aarch64-1.9.0/konan/platformDef/ios_x64/builtIn.def -o /var/folders/8h/663rnpwx6yz077tq5qtxbk8h0000gn/T/cinterop-8329239377189575520.klib -target ios_x64 -verbose\n",
      "-----\n",
      "CINTEROP COMMAND: /Users/whyoleg/.konan/dependencies/apple-llvm-20200714-macos-aarch64-essentials/bin/clang -O2 -fexceptions -isystem /Users/whyoleg/.konan/dependencies/apple-llvm-20200714-macos-aarch64-essentials/lib/clang/11.1.0/include -B/Applications/Xcode.app/Contents/Developer/Toolchains/XcodeDefault.xctoolchain/usr/bin -fno-stack-protector -target x86_64-apple-ios9.0-simulator -isysroot /Applications/Xcode.app/Contents/Developer/Platforms/iPhoneSimulator.platform/Developer/SDKs/iPhoneSimulator16.4.sdk -fPIC -Wno-builtin-macro-redefined -include-pch /var/folders/8h/663rnpwx6yz077tq5qtxbk8h0000gn/T/1715692829830440375.pch -include-pch /var/folders/8h/663rnpwx6yz077tq5qtxbk8h0000gn/T/11920693803999347975.pch -emit-llvm -x c -c - -o /var/folders/8h/663rnpwx6yz077tq5qtxbk8h0000gn/T/cinterop-8329239377189575520.klib-build/natives/cstubs.bc -Xclang -detailed-preprocessing-record < /var/folders/8h/663rnpwx6yz077tq5qtxbk8h0000gn/T/konan_temp3547105538063275523/cstubs.c\n",
      "\n",
      "\n",
      "ios_arm64\n",
      "CLI COMMAND: /Users/whyoleg/.konan/kotlin-native-prebuilt-macos-aarch64-1.9.0/bin/cinterop -def /Users/whyoleg/.konan/kotlin-native-prebuilt-macos-aarch64-1.9.0/konan/platformDef/ios_arm64/builtIn.def -o /var/folders/8h/663rnpwx6yz077tq5qtxbk8h0000gn/T/cinterop-12365289767268465639.klib -target ios_arm64 -verbose\n",
      "-----\n",
      "CINTEROP COMMAND: /Users/whyoleg/.konan/dependencies/apple-llvm-20200714-macos-aarch64-essentials/bin/clang -O2 -fexceptions -isystem /Users/whyoleg/.konan/dependencies/apple-llvm-20200714-macos-aarch64-essentials/lib/clang/11.1.0/include -B/Applications/Xcode.app/Contents/Developer/Toolchains/XcodeDefault.xctoolchain/usr/bin -fno-stack-protector -target arm64-apple-ios9.0 -isysroot /Applications/Xcode.app/Contents/Developer/Platforms/iPhoneOS.platform/Developer/SDKs/iPhoneOS16.4.sdk -fPIC -Wno-builtin-macro-redefined -include-pch /var/folders/8h/663rnpwx6yz077tq5qtxbk8h0000gn/T/15580716941268663833.pch -include-pch /var/folders/8h/663rnpwx6yz077tq5qtxbk8h0000gn/T/16746484678040700471.pch -emit-llvm -x c -c - -o /var/folders/8h/663rnpwx6yz077tq5qtxbk8h0000gn/T/cinterop-12365289767268465639.klib-build/natives/cstubs.bc -Xclang -detailed-preprocessing-record < /var/folders/8h/663rnpwx6yz077tq5qtxbk8h0000gn/T/konan_temp5685147594020891957/cstubs.c\n",
      "\n",
      "\n",
      "ios_simulator_arm64\n",
      "CLI COMMAND: /Users/whyoleg/.konan/kotlin-native-prebuilt-macos-aarch64-1.9.0/bin/cinterop -def /Users/whyoleg/.konan/kotlin-native-prebuilt-macos-aarch64-1.9.0/konan/platformDef/ios_simulator_arm64/builtIn.def -o /var/folders/8h/663rnpwx6yz077tq5qtxbk8h0000gn/T/cinterop-3058862896665062621.klib -target ios_simulator_arm64 -verbose\n",
      "-----\n",
      "CINTEROP COMMAND: /Users/whyoleg/.konan/dependencies/apple-llvm-20200714-macos-aarch64-essentials/bin/clang -O2 -fexceptions -isystem /Users/whyoleg/.konan/dependencies/apple-llvm-20200714-macos-aarch64-essentials/lib/clang/11.1.0/include -B/Applications/Xcode.app/Contents/Developer/Toolchains/XcodeDefault.xctoolchain/usr/bin -fno-stack-protector -target arm64-apple-ios9.0-simulator -isysroot /Applications/Xcode.app/Contents/Developer/Platforms/iPhoneSimulator.platform/Developer/SDKs/iPhoneSimulator16.4.sdk -fPIC -Wno-builtin-macro-redefined -include-pch /var/folders/8h/663rnpwx6yz077tq5qtxbk8h0000gn/T/4989336542860146702.pch -include-pch /var/folders/8h/663rnpwx6yz077tq5qtxbk8h0000gn/T/15560860557631095215.pch -emit-llvm -x c -c - -o /var/folders/8h/663rnpwx6yz077tq5qtxbk8h0000gn/T/cinterop-3058862896665062621.klib-build/natives/cstubs.bc -Xclang -detailed-preprocessing-record < /var/folders/8h/663rnpwx6yz077tq5qtxbk8h0000gn/T/konan_temp1708623629344011934/cstubs.c\n"
     ]
    }
   ],
   "source": [
    "targets.forEach(::runCommand)"
   ],
   "metadata": {
    "collapsed": false,
    "ExecuteTime": {
     "end_time": "2023-09-14T19:57:10.708793Z",
     "start_time": "2023-09-14T19:57:02.433053Z"
    }
   }
  },
  {
   "cell_type": "code",
   "execution_count": null,
   "outputs": [],
   "source": [],
   "metadata": {
    "collapsed": false
   }
  }
 ],
 "metadata": {
  "kernelspec": {
   "display_name": "Kotlin",
   "language": "kotlin",
   "name": "kotlin"
  },
  "language_info": {
   "name": "kotlin",
   "version": "1.9.0",
   "mimetype": "text/x-kotlin",
   "file_extension": ".kt",
   "pygments_lexer": "kotlin",
   "codemirror_mode": "text/x-kotlin",
   "nbconvert_exporter": ""
  }
 },
 "nbformat": 4,
 "nbformat_minor": 0
}
